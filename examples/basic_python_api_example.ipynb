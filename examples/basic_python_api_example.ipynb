{
 "cells": [
  {
   "cell_type": "markdown",
   "metadata": {},
   "source": [
    "# Basic Python API Demo\n",
    "\n",
    "This notebook demonstrates how to work with local TensorBoard event files containing dummy data."
   ]
  },
  {
   "cell_type": "code",
   "execution_count": null,
   "metadata": {},
   "outputs": [],
   "source": [
    "import shutil\n",
    "from glob import glob\n",
    "\n",
    "import tensorboard_reducer as tbr"
   ]
  },
  {
   "cell_type": "code",
   "execution_count": null,
   "metadata": {},
   "outputs": [
    {
     "name": "stdout",
     "output_type": "stream",
     "text": [
      "Found 3 runs: ['../tests/runs/strict/run_2', '../tests/runs/strict/run_3', '../tests/runs/strict/run_1']\n"
     ]
    }
   ],
   "source": [
    "# where are your TensorBoard event files stored?\n",
    "input_event_dirs = sorted(glob(\"../tests/runs/strict/*\"))\n",
    "\n",
    "joined_dirs = \"\\n\".join(input_event_dirs)\n",
    "print(f\"Found {len(input_event_dirs)} runs:\\n{joined_dirs}\")"
   ]
  },
  {
   "cell_type": "code",
   "execution_count": null,
   "metadata": {},
   "outputs": [
    {
     "name": "stdout",
     "output_type": "stream",
     "text": [
      "Loaded 3 TensorBoard runs with 1 scalar(s) and 100 steps each:\n",
      "{'strict/foo':          value     value     value\n",
      "step                              \n",
      "0     2.970375  3.521034  1.496257\n",
      "5     2.836909  3.822311  1.768222\n",
      "10    2.281987  3.122040  1.088477\n",
      "15    2.374158  3.156744  1.132030\n",
      "20    2.023701  3.209669  1.307423\n",
      "...        ...       ...       ...\n",
      "475   2.224758  3.191785  1.175652\n",
      "480   2.208647  3.845772  1.749658\n",
      "485   2.670872  3.127788  1.604651\n",
      "490   2.202044  3.704833  1.109958\n",
      "495   2.489091  3.331873  1.212090\n",
      "\n",
      "[100 rows x 3 columns]}\n"
     ]
    }
   ],
   "source": [
    "events_out_dir = \"tmp/reduced\"\n",
    "csv_out_path = \"tmp/tb-reduction.csv\"\n",
    "overwrite = True\n",
    "reduce_ops = (\"mean\", \"min\", \"max\")\n",
    "\n",
    "events_dict = tbr.load_tb_events(input_event_dirs)\n",
    "\n",
    "n_scalars = len(events_dict)\n",
    "n_steps, n_events = list(events_dict.values())[0].shape\n",
    "\n",
    "print(\n",
    "    f\"Loaded {n_events} TensorBoard runs with {n_scalars} scalar(s) \"\n",
    "    f\"and {n_steps} steps each:\\n{events_dict}\"\n",
    ")"
   ]
  },
  {
   "cell_type": "code",
   "execution_count": null,
   "metadata": {},
   "outputs": [
    {
     "name": "stdout",
     "output_type": "stream",
     "text": [
      "Writing 'mean' reduction to 'tmp/reduced-mean'\n",
      "Writing 'min' reduction to 'tmp/reduced-min'\n",
      "Writing 'max' reduction to 'tmp/reduced-max'\n",
      "Writing results to 'tmp/tb-reduction.csv'\n",
      "✓ Reduction complete\n"
     ]
    }
   ],
   "source": [
    "reduced_events = tbr.reduce_events(events_dict, reduce_ops)\n",
    "\n",
    "for op in reduce_ops:\n",
    "    print(f\"Writing '{op}' reduction to '{events_out_dir}-{op}'\")\n",
    "\n",
    "tbr.write_tb_events(reduced_events, events_out_dir, overwrite)\n",
    "\n",
    "print(f\"Writing results to '{csv_out_path}'\")\n",
    "\n",
    "tbr.write_data_file(reduced_events, csv_out_path, overwrite)\n",
    "\n",
    "print(\"✓ Reduction complete\")"
   ]
  },
  {
   "cell_type": "code",
   "execution_count": null,
   "metadata": {},
   "outputs": [],
   "source": [
    "# clean up\n",
    "shutil.rmtree(\"tmp\")"
   ]
  }
 ],
 "metadata": {
  "kernelspec": {
   "display_name": "Python 3.10.5 ('functorch')",
   "language": "python",
   "name": "python3"
  },
  "language_info": {
   "codemirror_mode": {
    "name": "ipython",
    "version": 3
   },
   "file_extension": ".py",
   "mimetype": "text/x-python",
   "name": "python",
   "nbconvert_exporter": "python",
   "pygments_lexer": "ipython3",
   "version": "3.10.5"
  },
  "vscode": {
   "interpreter": {
    "hash": "0328dfb393264e281b210bc1915544d9c7d3eee394cd2e6e68e6b0b410f1c09a"
   }
  }
 },
 "nbformat": 4,
 "nbformat_minor": 2
}
