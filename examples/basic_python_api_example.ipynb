{
 "cells": [
  {
   "cell_type": "markdown",
   "metadata": {},
   "source": [
    "# Basic Python API Demo\n",
    "\n",
    "This notebook demonstrates how to work with local TensorBoard event files containing dummy data."
   ]
  },
  {
   "cell_type": "code",
   "execution_count": null,
   "metadata": {},
   "outputs": [],
   "source": [
    "import shutil\n",
    "from glob import glob\n",
    "\n",
    "import tensorboard_reducer as tbr"
   ]
  },
  {
   "cell_type": "code",
   "execution_count": null,
   "metadata": {},
   "outputs": [
    {
     "name": "stdout",
     "output_type": "stream",
     "text": [
      "Found 3 runs:\n",
      "../tests/runs/strict/run_1\n",
      "../tests/runs/strict/run_2\n",
      "../tests/runs/strict/run_3\n"
     ]
    }
   ],
   "source": [
    "# where are your TensorBoard event files stored?\n",
    "input_event_dirs = sorted(glob(\"../tests/runs/strict/*\"))\n",
    "\n",
    "joined_dirs = \"\\n\".join(input_event_dirs)\n",
    "print(f\"Found {len(input_event_dirs)} runs:\\n{joined_dirs}\")"
   ]
  },
  {
   "cell_type": "code",
   "execution_count": null,
   "metadata": {},
   "outputs": [
    {
     "name": "stderr",
     "output_type": "stream",
     "text": [
      "Loading runs: 100%|██████████| 3/3 [00:00<00:00, 305.84it/s]\n",
      "Reading tags: 100%|██████████| 3/3 [00:00<00:00, 1142.86it/s]"
     ]
    },
    {
     "name": "stdout",
     "output_type": "stream",
     "text": [
      "Loaded 3 TensorBoard runs with 1 scalars and 100 steps each\n"
     ]
    },
    {
     "name": "stderr",
     "output_type": "stream",
     "text": [
      "\n"
     ]
    }
   ],
   "source": [
    "events_out_dir = \"tmp/reduced\"\n",
    "csv_out_path = \"tmp/tb-reduction.csv\"\n",
    "overwrite = True\n",
    "reduce_ops = (\"mean\", \"min\", \"max\")\n",
    "\n",
    "events_dict = tbr.load_tb_events(input_event_dirs, verbose=True)"
   ]
  },
  {
   "cell_type": "code",
   "execution_count": null,
   "metadata": {},
   "outputs": [
    {
     "name": "stdout",
     "output_type": "stream",
     "text": [
      "Reduced 1 scalars with 3 operations: (mean, min, max)\n",
      "Writing 'mean' reduction to 'tmp/reduced-mean'\n",
      "Writing 'min' reduction to 'tmp/reduced-min'\n",
      "Writing 'max' reduction to 'tmp/reduced-max'\n"
     ]
    },
    {
     "name": "stderr",
     "output_type": "stream",
     "text": [
      "Writing max reduction to disk: 100%|██████████| 3/3 [00:00<00:00, 180.74it/s]"
     ]
    },
    {
     "name": "stdout",
     "output_type": "stream",
     "text": [
      "Created new TensorBoard event files in\n",
      "- tmp/reduced-mean\n",
      "- tmp/reduced-min\n",
      "- tmp/reduced-max\n",
      "Writing results to 'tmp/tb-reduction.csv'\n",
      "Created new data file at 'tmp/tb-reduction.csv'\n",
      "✓ Reduction complete\n"
     ]
    },
    {
     "name": "stderr",
     "output_type": "stream",
     "text": [
      "\n"
     ]
    }
   ],
   "source": [
    "reduced_events = tbr.reduce_events(events_dict, reduce_ops, verbose=True)\n",
    "\n",
    "for op in reduce_ops:\n",
    "    print(f\"Writing '{op}' reduction to '{events_out_dir}-{op}'\")\n",
    "\n",
    "tbr.write_tb_events(reduced_events, events_out_dir, overwrite, verbose=True)\n",
    "\n",
    "print(f\"Writing results to '{csv_out_path}'\")\n",
    "\n",
    "tbr.write_data_file(reduced_events, csv_out_path, overwrite, verbose=True)\n",
    "\n",
    "print(\"✓ Reduction complete\")"
   ]
  },
  {
   "cell_type": "code",
   "execution_count": null,
   "metadata": {},
   "outputs": [],
   "source": [
    "# clean up\n",
    "shutil.rmtree(\"tmp\")"
   ]
  }
 ],
 "metadata": {
  "kernelspec": {
   "display_name": "Python 3.10.5 ('functorch')",
   "language": "python",
   "name": "python3"
  },
  "language_info": {
   "codemirror_mode": {
    "name": "ipython",
    "version": 3
   },
   "file_extension": ".py",
   "mimetype": "text/x-python",
   "name": "python",
   "nbconvert_exporter": "python",
   "pygments_lexer": "ipython3",
   "version": "3.10.9"
  },
  "vscode": {
   "interpreter": {
    "hash": "0328dfb393264e281b210bc1915544d9c7d3eee394cd2e6e68e6b0b410f1c09a"
   }
  }
 },
 "nbformat": 4,
 "nbformat_minor": 2
}
